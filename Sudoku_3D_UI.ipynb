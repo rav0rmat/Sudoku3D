## `Sudoku_3D_UI.ipynb`
```python
from sudoku3d.core import generate_complete_sudoku, generate_playable_puzzle, draw_board
import ipywidgets as widgets
from IPython.display import display, clear_output
# aici construiești interfața apelând funcțiile din core
```
