{
  "cells": [
    {
      "cell_type": "code",
      "metadata": {
        "trusted": true
      },
      "id": "20155765-d88f-45bc-9447-1dd1b1338a8f",
      "execution_count": null,
      "outputs": [],
      "source": [
        "import numpy as np\n",
        "import plotly.graph_objects as go\n",
        "import ipywidgets as widgets\n",
        "from IPython.display import display, clear_output\n",
        "import copy\n",
        "\n",
        "# Sudoku 3D helper functions\n",
        "# (tot codul complet din canvas vine aici)\n",
        "..."
      ]
    }
  ],
  "metadata": {
    "kernelspec": {
      "display_name": "Python 3",
      "language": "python",
      "name": "python3"
    },
    "language_info": {
      "name": "python",
      "version": "3.12"
    },
    "voila": {
      "strip_sources": true,
      "theme": "dark"
    }
  },
  "nbformat": 4,
  "nbformat_minor": 5
}