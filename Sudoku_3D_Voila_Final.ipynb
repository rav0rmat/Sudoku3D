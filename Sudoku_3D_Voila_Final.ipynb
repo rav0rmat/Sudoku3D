{
  "cells": [
    {
      "cell_type": "code",
      "metadata": {
        "trusted": true
      },
      "id": "9b1db70c-9736-411b-abcc-1cd904e72318",
      "source": [
        "import numpy as np\n",
        "import plotly.graph_objects as go\n",
        "import ipywidgets as widgets\n",
        "from IPython.display import display, clear_output\n",
        "import copy\n",
        "\n",
        "# Sudoku 3D helper functions\n",
        "# (tot codul complet din canvas vine aici)\n",
        "..."
      ],
      "outputs": [],
      "execution_count": null
    }
  ],
  "metadata": {
    "kernelspec": {
      "display_name": "Python 3",
      "language": "python",
      "name": "python3"
    },
    "language_info": {
      "name": "python",
      "version": "3.12"
    },
    "trusted": true
  },
  "nbformat": 4,
  "nbformat_minor": 5
}